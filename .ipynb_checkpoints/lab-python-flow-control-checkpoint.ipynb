{
 "cells": [
  {
   "cell_type": "markdown",
   "id": "d3bfc191-8885-42ee-b0a0-bbab867c6f9f",
   "metadata": {
    "tags": []
   },
   "source": [
    "# Lab | Flow Control"
   ]
  },
  {
   "cell_type": "markdown",
   "id": "3851fcd1-cf98-4653-9c89-e003b7ec9400",
   "metadata": {},
   "source": [
    "## Exercise: Managing Customer Orders Optimized\n",
    "\n",
    "In the last lab, you were starting an online store that sells various products. To ensure smooth operations, you developed a program that manages customer orders and inventory.\n",
    "\n",
    "You did so without using flow control. Let's go a step further and improve this code.\n",
    "\n",
    "Follow the steps below to complete the exercise:\n",
    "\n",
    "1. Look at your code from the lab data structures, and improve repeated code with loops.\n",
    "\n",
    "2. Instead of asking the user to input the name of three products that a customer wants to order, do the following:\n",
    "    \n",
    "    a. Prompt the user to enter the name of a product that a customer wants to order.\n",
    "    \n",
    "    b. Add the product name to the \"customer_orders\" set.\n",
    "    \n",
    "    c. Ask the user if they want to add another product (yes/no).\n",
    "    \n",
    "    d. Continue the loop until the user does not want to add another product.\n",
    "\n",
    "3. Instead of updating the inventory by subtracting 1 from the quantity of each product, only do it for  the products that were ordered (those in \"customer_orders\")."
   ]
  },
  {
   "cell_type": "code",
   "execution_count": 3,
   "id": "0490592a-9659-4eb2-8244-1b2132540261",
   "metadata": {},
   "outputs": [
    {
     "name": "stdin",
     "output_type": "stream",
     "text": [
      "Enter the quantity of t-shirt:  5\n",
      "Enter the quantity of mug:  10\n",
      "Enter the quantity of hat:  15\n",
      "Enter the quantity of book:  20\n",
      "Enter the quantity of keychain:  25\n"
     ]
    }
   ],
   "source": [
    "# improve with loops\n",
    "products = [\"t-shirt\", \"mug\", \"hat\", \"book\", \"keychain\"]\n",
    "inventory = {}\n",
    "for product in products:\n",
    "    quantity = int(input(f\"Enter the quantity of {product}: \"))\n",
    "    inventory[product] = quantity"
   ]
  },
  {
   "cell_type": "code",
   "execution_count": 4,
   "id": "85d3ddbe-8b3d-4457-86ad-1c5bd3cfee39",
   "metadata": {},
   "outputs": [
    {
     "data": {
      "text/plain": [
       "{'t-shirt': 5, 'mug': 10, 'hat': 15, 'book': 20, 'keychain': 25}"
      ]
     },
     "execution_count": 4,
     "metadata": {},
     "output_type": "execute_result"
    }
   ],
   "source": [
    "inventory"
   ]
  },
  {
   "cell_type": "code",
   "execution_count": 5,
   "id": "8bd4de7b-62e1-4a56-a289-ba1e5fa4fe29",
   "metadata": {},
   "outputs": [],
   "source": [
    "customer_orders = set()"
   ]
  },
  {
   "cell_type": "code",
   "execution_count": 7,
   "id": "7e82ec91-3dfe-4b61-9ba0-dcdc5457dc2f",
   "metadata": {},
   "outputs": [
    {
     "name": "stdin",
     "output_type": "stream",
     "text": [
      "Enter the name of a product you would like to order (t-shirt, mug, hat, book, keychain), or type 'no' to finish:  mug\n"
     ]
    },
    {
     "name": "stdout",
     "output_type": "stream",
     "text": [
      "mug has been added to your order.\n"
     ]
    },
    {
     "name": "stdin",
     "output_type": "stream",
     "text": [
      "Enter the name of a product you would like to order (t-shirt, mug, hat, book, keychain), or type 'no' to finish:  hat\n"
     ]
    },
    {
     "name": "stdout",
     "output_type": "stream",
     "text": [
      "hat has been added to your order.\n"
     ]
    },
    {
     "name": "stdin",
     "output_type": "stream",
     "text": [
      "Enter the name of a product you would like to order (t-shirt, mug, hat, book, keychain), or type 'no' to finish:  book\n"
     ]
    },
    {
     "name": "stdout",
     "output_type": "stream",
     "text": [
      "book has been added to your order.\n"
     ]
    },
    {
     "name": "stdin",
     "output_type": "stream",
     "text": [
      "Enter the name of a product you would like to order (t-shirt, mug, hat, book, keychain), or type 'no' to finish:  keychain\n"
     ]
    },
    {
     "name": "stdout",
     "output_type": "stream",
     "text": [
      "keychain has been added to your order.\n"
     ]
    },
    {
     "name": "stdin",
     "output_type": "stream",
     "text": [
      "Enter the name of a product you would like to order (t-shirt, mug, hat, book, keychain), or type 'no' to finish:  no\n"
     ]
    },
    {
     "name": "stdout",
     "output_type": "stream",
     "text": [
      "Thank you for your order!\n"
     ]
    }
   ],
   "source": [
    "customer_orders = set()  # Create an empty set to store customer orders\n",
    "\n",
    "while True:\n",
    "    product = input(\"Enter the name of a product you would like to order (t-shirt, mug, hat, book, keychain), or type 'no' to finish: \").lower()\n",
    "    \n",
    "    if product == \"no\":\n",
    "        print(\"Thank you for your order!\")\n",
    "        break  # Exit the loop if the user enters 'stop'\n",
    "    \n",
    "    if product in [\"t-shirt\", \"mug\", \"hat\", \"book\", \"keychain\"]:  # Check if the entered product is valid\n",
    "        customer_orders.add(product)  # Add the product to the set of customer orders\n",
    "        print(f\"{product} has been added to your order.\")\n",
    "    else:\n",
    "        print(\"Invalid product. Please choose from t-shirt, mug, hat, book, or keychain.\")\n"
   ]
  },
  {
   "cell_type": "code",
   "execution_count": 8,
   "id": "f0418616-d9d8-473b-8bcf-30a77c025c17",
   "metadata": {},
   "outputs": [
    {
     "name": "stdout",
     "output_type": "stream",
     "text": [
      "Products in customer orders:\n",
      "book\n",
      "hat\n",
      "keychain\n",
      "mug\n"
     ]
    }
   ],
   "source": [
    "# Printing customer orders\n",
    "print(\"Products in customer orders:\")\n",
    "for product in customer_orders:\n",
    "    print(product)"
   ]
  },
  {
   "cell_type": "code",
   "execution_count": 9,
   "id": "2c909cca-fab6-4f4a-82e2-12dcb5f10c08",
   "metadata": {},
   "outputs": [
    {
     "data": {
      "text/plain": [
       "(4, 80.0)"
      ]
     },
     "execution_count": 9,
     "metadata": {},
     "output_type": "execute_result"
    }
   ],
   "source": [
    "# 7 Calculating wanted products \n",
    "\n",
    "total_products_ordered = len(customer_orders)\n",
    "percentage_ordered = (len(customer_orders)/len(products))*100\n",
    "\n",
    "order_status = (total_products_ordered, percentage_ordered)\n",
    "order_status"
   ]
  },
  {
   "cell_type": "code",
   "execution_count": 11,
   "id": "4f22ece5-90e9-401d-bddc-aa37a976f189",
   "metadata": {},
   "outputs": [
    {
     "name": "stdout",
     "output_type": "stream",
     "text": [
      "Order Statistics:\n",
      "Total Products Ordered: 4\n",
      "Percentage of Products Ordered: 80.00%\n"
     ]
    }
   ],
   "source": [
    "#Print order statistics\n",
    "print(\"Order Statistics:\") \n",
    "print(\"Total Products Ordered:\", total_products_ordered)\n",
    "print(f\"Percentage of Products Ordered: {percentage_ordered:.2f}%\")\n"
   ]
  },
  {
   "cell_type": "code",
   "execution_count": 12,
   "id": "7461729f-2b91-4bc9-be34-5a80debbc094",
   "metadata": {},
   "outputs": [],
   "source": [
    "# Step 9: Subtract 1 from the quantity of each ordered product in the inventory\n",
    "for ordered_product in customer_orders:\n",
    "    inventory[ordered_product] -= 1"
   ]
  },
  {
   "cell_type": "code",
   "execution_count": 13,
   "id": "d976ed80-6e1d-44e7-862d-19b5a41e7b8f",
   "metadata": {},
   "outputs": [
    {
     "name": "stdout",
     "output_type": "stream",
     "text": [
      "Updated Inventory: {'t-shirt': 5, 'mug': 9, 'hat': 14, 'book': 19, 'keychain': 24}\n"
     ]
    }
   ],
   "source": [
    "# Step 10: Print the updated inventory\n",
    "print(\"Updated Inventory:\", inventory)"
   ]
  }
 ],
 "metadata": {
  "kernelspec": {
   "display_name": "Python 3 (ipykernel)",
   "language": "python",
   "name": "python3"
  },
  "language_info": {
   "codemirror_mode": {
    "name": "ipython",
    "version": 3
   },
   "file_extension": ".py",
   "mimetype": "text/x-python",
   "name": "python",
   "nbconvert_exporter": "python",
   "pygments_lexer": "ipython3",
   "version": "3.11.7"
  }
 },
 "nbformat": 4,
 "nbformat_minor": 5
}
